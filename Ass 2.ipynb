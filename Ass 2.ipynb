{
 "cells": [
  {
   "cell_type": "code",
   "execution_count": 2,
   "metadata": {},
   "outputs": [
    {
     "name": "stdout",
     "output_type": "stream",
     "text": [
      "Marks of 1st subject:88\n",
      "Marks of 2nd subject:90\n",
      "Marks of 3rd subject:99\n",
      "Marks of 4th subject:85\n",
      "Marks of 5th subject:82\n",
      "Total:444\n",
      "Percentage:98\n",
      "A+\n"
     ]
    }
   ],
   "source": [
    "\n",
    "\n",
    "#Write a program which takes 5 inputs from user for different subject’s marks, total it and generate mark sheet using grades ? \n",
    "sub1=(input(\"Marks of 1st subject:\"));\n",
    "sub2=(input(\"Marks of 2nd subject:\"));\n",
    "sub3=(input(\"Marks of 3rd subject:\"));\n",
    "sub4=(input(\"Marks of 4th subject:\"));\n",
    "sub5=(input(\"Marks of 5th subject:\"));\n",
    "Total=int(sub1)+int(sub2)+int(sub3)+int(sub4)+int(sub5);\n",
    "print(\"Total:\"+str(Total))\n",
    "per=int((Total*100)/450);\n",
    "print(\"Percentage:\"+str(per))\n",
    "if per>=80 and per<100:\n",
    "    print (\"A+\")\n",
    "elif per>=70 and per<80:\n",
    "    print(\"A\")\n",
    "elif per>=60 and per<70:\n",
    "    print(\"D\")\n",
    "elif per>=50 and per<60:\n",
    "    print(\"C\")\n",
    "elif per>=40 and per<50:\n",
    "    print(\"D\")\n",
    "elif per>=0 and per<40:\n",
    "    print(\"Fail\")\n",
    "\n"
   ]
  },
  {
   "cell_type": "markdown",
   "metadata": {},
   "source": [
    "#Write a program which take input from user and identify that the given number is even or odd? \n",
    "num=input(\"Enter a number:\");\n",
    "if(int(num)%2==0):\n",
    "    print(\"Number is even\")\n",
    "else:\n",
    "    print(\"Number is odd\")\n",
    "\n"
   ]
  },
  {
   "cell_type": "code",
   "execution_count": 3,
   "metadata": {},
   "outputs": [
    {
     "name": "stdout",
     "output_type": "stream",
     "text": [
      "Enter a number:34\n",
      "Number is even\n"
     ]
    }
   ],
   "source": [
    "#Write a program which take input from user and identify that the given number is even or odd? \n",
    "num=input(\"Enter a number:\");\n",
    "if(int(num)%2==0):\n",
    "    print(\"Number is even\")\n",
    "else:\n",
    "    print(\"Number is odd\")\n",
    "\n"
   ]
  },
  {
   "cell_type": "code",
   "execution_count": 4,
   "metadata": {},
   "outputs": [
    {
     "name": "stdout",
     "output_type": "stream",
     "text": [
      "Enter a number:31\n",
      "Number is odd\n"
     ]
    }
   ],
   "source": [
    "#Write a program which take input from user and identify that the given number is even or odd? \n",
    "num=input(\"Enter a number:\");\n",
    "if(int(num)%2==0):\n",
    "    print(\"Number is even\")\n",
    "else:\n",
    "    print(\"Number is odd\")\n",
    "\n"
   ]
  },
  {
   "cell_type": "code",
   "execution_count": 5,
   "metadata": {},
   "outputs": [
    {
     "data": {
      "text/plain": [
       "3"
      ]
     },
     "execution_count": 5,
     "metadata": {},
     "output_type": "execute_result"
    }
   ],
   "source": [
    "#Write a program which print the length of the list? \n",
    "arr=[\"Ali\",\"Haider\",10]\n",
    "len(arr)\n"
   ]
  },
  {
   "cell_type": "code",
   "execution_count": 6,
   "metadata": {},
   "outputs": [
    {
     "name": "stdout",
     "output_type": "stream",
     "text": [
      "Sum: 30\n"
     ]
    }
   ],
   "source": [
    "#Write a Python program to sum all the numeric items in a list? \n",
    "arr=[\"Ali\",10,20,\"Haider\"]\n",
    "res=sum(filter(lambda i:isinstance(i,int),arr))\n",
    "print(\"Sum:\",res)\n",
    "\n"
   ]
  },
  {
   "cell_type": "code",
   "execution_count": 7,
   "metadata": {},
   "outputs": [
    {
     "name": "stdout",
     "output_type": "stream",
     "text": [
      "Largest element is  99\n"
     ]
    }
   ],
   "source": [
    "#Write a Python program to get the largest number from a numeric list. \n",
    "arr=[10,20,33,99]\n",
    "print(\"Largest element is \",max(arr))\n",
    "\n"
   ]
  },
  {
   "cell_type": "code",
   "execution_count": 8,
   "metadata": {},
   "outputs": [
    {
     "name": "stdout",
     "output_type": "stream",
     "text": [
      "Largest element is  99\n",
      "[1, 1, 2, 3]\n"
     ]
    }
   ],
   "source": [
    "#Write a Python program to get the largest number from a numeric list. \n",
    "arr=[10,20,33,99]\n",
    "print(\"Largest element is \",max(arr))\n",
    "\n",
    "#Take a list, say for example this one: \n",
    "#   a = [1, 1, 2, 3, 5, 8, 13, 21, 34, 55, 89] \n",
    "#and write a program that prints out all the elements of the list that are less than 5.\n",
    "a = [1, 1, 2, 3, 5, 8, 13, 21, 34, 55, 89]\n",
    "\n",
    "new_list = []\n",
    "for item in a:\n",
    "    if item < 5:\n",
    "        new_list.append(item)\n",
    "print(new_list)\n"
   ]
  },
  {
   "cell_type": "code",
   "execution_count": null,
   "metadata": {},
   "outputs": [],
   "source": []
  }
 ],
 "metadata": {
  "kernelspec": {
   "display_name": "Python 3",
   "language": "python",
   "name": "python3"
  },
  "language_info": {
   "codemirror_mode": {
    "name": "ipython",
    "version": 3
   },
   "file_extension": ".py",
   "mimetype": "text/x-python",
   "name": "python",
   "nbconvert_exporter": "python",
   "pygments_lexer": "ipython3",
   "version": "3.7.4"
  }
 },
 "nbformat": 4,
 "nbformat_minor": 2
}
