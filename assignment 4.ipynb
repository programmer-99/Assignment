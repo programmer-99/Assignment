{
 "cells": [
  {
   "cell_type": "code",
   "execution_count": 1,
   "metadata": {},
   "outputs": [
    {
     "name": "stdout",
     "output_type": "stream",
     "text": [
      "Muhammad\n",
      "Usama\n",
      "19\n",
      "Karachi\n",
      "Intermediate\n",
      "Muhammad\n",
      "Usama\n",
      "19\n",
      "Karachi\n",
      "Graduate\n",
      "Muhammad\n",
      "Usama \n",
      "19\n",
      "Karachi\n"
     ]
    }
   ],
   "source": [
    "'''Use a dictionary to store information about a person you know. Store their first name, last name, age,\n",
    "and the city in which they live. You should have keys such as first_name, last_name, age, and city. Print\n",
    "each piece of information stored in your dictionary. Add a new key value pair about qualification'''\n",
    "person = {\n",
    "    \"first_name\": \"Muhammad\",\n",
    "    \"last_name\": \"Usama\",\n",
    "    \"age\": \"19\",\n",
    "    \"city\": \"Karachi\",\n",
    "    }\n",
    "\n",
    "print(person[\"first_name\"])\n",
    "print(person[\"last_name\"])\n",
    "print(person[\"age\"])\n",
    "print(person[\"city\"])\n",
    "person[\"qualification\"]=\"Intermediate\"\n",
    "print(person[\"qualification\"])\n",
    "\n",
    "'''then update the qualification value to high academic level'''\n",
    "person = {\n",
    "    \"first_name\": \"Muhammad\",\n",
    "    \"last_name\": \"Usama\",\n",
    "    \"age\": \"19\",\n",
    "    \"city\": \"Karachi\",\n",
    "    }\n",
    "\n",
    "print(person[\"first_name\"])\n",
    "print(person[\"last_name\"])\n",
    "print(person[\"age\"])\n",
    "print(person[\"city\"])\n",
    "person[\"qualification\"]=\"Graduate\"\n",
    "print(person[\"qualification\"])\n",
    "\n",
    "#then delete it.\n",
    "person = {\n",
    "    \"first_name\": \"Muhammad\",\n",
    "    \"last_name\": \"Usama \",\n",
    "    \"age\": \"19\",\n",
    "    \"city\": \"Karachi\",\n",
    "    \"qualification\":\"Graduate\"\n",
    "    }\n",
    "\n",
    "print(person[\"first_name\"])\n",
    "print(person[\"last_name\"])\n",
    "print(person[\"age\"])\n",
    "print(person[\"city\"])\n",
    "del person[\"qualification\"]"
   ]
  },
  {
   "cell_type": "code",
   "execution_count": 2,
   "metadata": {},
   "outputs": [
    {
     "name": "stdout",
     "output_type": "stream",
     "text": [
      "\n",
      "Santiago is in Chile.\n",
      "  It has a population of about 6158080.\n",
      "  The Andes mountains are nearby.\n",
      "\n",
      "Talkeetna is in Alaska.\n",
      "  It has a population of about 876.\n",
      "  The Alaska Range mountains are nearby.\n",
      "\n",
      "Kathmandu is in Nepal.\n",
      "  It has a population of about 1003285.\n",
      "  The Himilaya mountains are nearby.\n"
     ]
    }
   ],
   "source": [
    "'''Make a dictionary called cities. Use the names of three cities as keys in your dictionary. Create a\n",
    "dictionary of information about each city and include the country that the city is in, its approximate\n",
    "population, and one fact about that city. The keys for each city’s dictionary should be something like\n",
    "country, population, and fact. Print the name of each city and all of the information you have stored\n",
    "about it.'''\n",
    "cities = {\n",
    "    'santiago': {\n",
    "        'country': 'chile',\n",
    "        'population': 6158080,\n",
    "        'nearby mountains': 'andes',\n",
    "        },\n",
    "    'talkeetna': {\n",
    "        'country': 'alaska',\n",
    "        'population': 876,\n",
    "        'nearby mountains': 'alaska range',\n",
    "        },\n",
    "    'kathmandu': {\n",
    "        'country': 'nepal',\n",
    "        'population': 1003285,\n",
    "        'nearby mountains': 'himilaya',\n",
    "        }\n",
    "    }\n",
    "\n",
    "for city, city_info in cities.items():\n",
    "    country = city_info['country'].title()\n",
    "    population = city_info['population']\n",
    "    mountains = city_info['nearby mountains'].title()\n",
    "\n",
    "    print(\"\\n\" + city.title() + \" is in \" + country + \".\")\n",
    "    print(\"  It has a population of about \" + str(population) + \".\")\n",
    "    print(\"  The \" + mountains + \" mountains are nearby.\")"
   ]
  },
  {
   "cell_type": "code",
   "execution_count": 7,
   "metadata": {},
   "outputs": [
    {
     "name": "stdout",
     "output_type": "stream",
     "text": [
      "How old are you?\n",
      "Enter 'quit' when you are finished. 2\n",
      "  You get in free!\n",
      "How old are you?\n",
      "Enter 'quit' when you are finished. 11\n",
      "  Your ticket is $10.\n",
      "How old are you?\n",
      "Enter 'quit' when you are finished. 15\n",
      "  Your ticket is $15.\n",
      "How old are you?\n",
      "Enter 'quit' when you are finished. quit\n"
     ]
    }
   ],
   "source": [
    "'''A movie theater charges different ticket prices depending on a person’s age. If a person is under the age\n",
    "of 3, the ticket is free; if they are between 3 and 12, the ticket is $10; and if they are over age 12, the\n",
    "ticket is $15. Write a loop in which you ask users their age, and then tell them the cost of their movie\n",
    "ticket.'''\n",
    "prompt = \"How old are you?\"\n",
    "prompt += \"\\nEnter 'quit' when you are finished. \"\n",
    "\n",
    "while True:\n",
    "    age = input(prompt)\n",
    "    if age == 'quit':\n",
    "        break\n",
    "    age = int(age)\n",
    "\n",
    "    if age < 3:\n",
    "        print(\"  You get in free!\")\n",
    "    elif age < 13:\n",
    "        print(\"  Your ticket is $10.\")\n",
    "    else:\n",
    "        print(\"  Your ticket is $15.\")\n",
    "\n"
   ]
  },
  {
   "cell_type": "code",
   "execution_count": 9,
   "metadata": {},
   "outputs": [
    {
     "name": "stdout",
     "output_type": "stream",
     "text": [
      "The Abstract Wild is one of my favorite books.\n"
     ]
    }
   ],
   "source": [
    "'''Write a function called favorite_book() that accepts one parameter, title. The function should print a\n",
    "message, such as One of my favorite books is Alice in Wonderland. Call the function, making sure to\n",
    "include a book title as an argument in the function call.'''\n",
    "def favorite_book(title):\n",
    "   \n",
    "    print(title + \" is one of my favorite books.\")\n",
    "\n",
    "favorite_book('The Abstract Wild')\n"
   ]
  },
  {
   "cell_type": "code",
   "execution_count": 10,
   "metadata": {},
   "outputs": [
    {
     "name": "stdout",
     "output_type": "stream",
     "text": [
      "Hello what is your name?Usama\n",
      "Hi Usama ,I am thinking of a number between 1 and 30.\n",
      "Enter your guess:8\n",
      "number is too low\n",
      "Enter your guess:20\n",
      "That's right!\n"
     ]
    }
   ],
   "source": [
    "'''Guess the number game\n",
    "Write a program which randomly generate a number between 1 to 30 and ask the user in input field to\n",
    "guess the correct number. Give three chances to user guess the number and also give hint to user if\n",
    "hidden number is greater or smaller than the number he given to input field.'''\n",
    "import random\n",
    "name=input(\"Hello what is your name?\")\n",
    "number=random.randint(1,30)\n",
    "print(\"Hi \"+name+\" ,I am thinking of a number between 1 and 30.\")\n",
    "guesstaken=0\n",
    "\n",
    "while guesstaken<3:\n",
    "    guess=int(input(\"Enter your guess:\"))\n",
    "    guesstaken=guesstaken + 1\n",
    "    if guess<number:\n",
    "        print(\"number is too low\")\n",
    "    elif guess>number:\n",
    "        print(\"number is too high\")\n",
    "    else:\n",
    "        print(\"That's right!\")\n",
    "        break"
   ]
  },
  {
   "cell_type": "code",
   "execution_count": null,
   "metadata": {},
   "outputs": [],
   "source": []
  }
 ],
 "metadata": {
  "kernelspec": {
   "display_name": "Python 3",
   "language": "python",
   "name": "python3"
  },
  "language_info": {
   "codemirror_mode": {
    "name": "ipython",
    "version": 3
   },
   "file_extension": ".py",
   "mimetype": "text/x-python",
   "name": "python",
   "nbconvert_exporter": "python",
   "pygments_lexer": "ipython3",
   "version": "3.7.4"
  }
 },
 "nbformat": 4,
 "nbformat_minor": 2
}
