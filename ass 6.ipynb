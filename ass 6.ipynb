{
 "cells": [
  {
   "cell_type": "code",
   "execution_count": 2,
   "metadata": {},
   "outputs": [
    {
     "ename": "SyntaxError",
     "evalue": "invalid syntax (<ipython-input-2-a2344f084c95>, line 6)",
     "output_type": "error",
     "traceback": [
      "\u001b[1;36m  File \u001b[1;32m\"<ipython-input-2-a2344f084c95>\"\u001b[1;36m, line \u001b[1;32m6\u001b[0m\n\u001b[1;33m    def_init_(self, model, name, color, make, speed):\u001b[0m\n\u001b[1;37m                                                     ^\u001b[0m\n\u001b[1;31mSyntaxError\u001b[0m\u001b[1;31m:\u001b[0m invalid syntax\n"
     ]
    }
   ],
   "source": [
    "#5.Write a code in python in which create a class named it Car which\n",
    "#have 5 attributes such like (model, color and name etc.) and 3\n",
    "#methods. And create 5 object instance from that class.\n",
    "\n",
    "class Car():\n",
    "    def_init_(self, model, name, color, make, speed):\n",
    "        self.m=model\n",
    "        self.n=name\n",
    "        self.c=color\n",
    "        self.m=make\n",
    "        self.s=speed\n",
    "       \n",
    "      # create class methods\n",
    "    def start(self):\n",
    "        print (\"Engine started\")\n",
    "\n",
    "    def stop(self):\n",
    "        print (\"Engine switched off\")\n",
    "       \n",
    "    def unlock(self):\n",
    "        print(\"Car unlocked\")\n",
    "       \n",
    "car_a = Car(\"model\",)\n",
    "car_b = Car(\"name\")\n",
    "car_c = Car()\n",
    "car_d = Car()\n",
    "car_e = Car()\n",
    "print(car_a.model)\n",
    "print(car_b.name)\n",
    "car_c.stop()\n",
    "car_d.unlock()\n",
    "car_e.start()\n",
    "\n"
   ]
  },
  {
   "cell_type": "code",
   "execution_count": null,
   "metadata": {},
   "outputs": [],
   "source": []
  }
 ],
 "metadata": {
  "kernelspec": {
   "display_name": "Python 3",
   "language": "python",
   "name": "python3"
  },
  "language_info": {
   "codemirror_mode": {
    "name": "ipython",
    "version": 3
   },
   "file_extension": ".py",
   "mimetype": "text/x-python",
   "name": "python",
   "nbconvert_exporter": "python",
   "pygments_lexer": "ipython3",
   "version": "3.7.4"
  }
 },
 "nbformat": 4,
 "nbformat_minor": 2
}
